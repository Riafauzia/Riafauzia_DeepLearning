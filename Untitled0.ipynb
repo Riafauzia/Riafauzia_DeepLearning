{
  "nbformat": 4,
  "nbformat_minor": 0,
  "metadata": {
    "colab": {
      "provenance": [],
      "mount_file_id": "18GHBsnaXhWgSs71hWBQmTNxwPS8eQ5Z9",
      "authorship_tag": "ABX9TyMHtdBwtgLlrmN0qs3VlIpo",
      "include_colab_link": true
    },
    "kernelspec": {
      "name": "python3",
      "display_name": "Python 3"
    },
    "language_info": {
      "name": "python"
    }
  },
  "cells": [
    {
      "cell_type": "markdown",
      "metadata": {
        "id": "view-in-github",
        "colab_type": "text"
      },
      "source": [
        "<a href=\"https://colab.research.google.com/github/Riafauzia/Riafauzia_DeepLearning/blob/main/Untitled0.ipynb\" target=\"_parent\"><img src=\"https://colab.research.google.com/assets/colab-badge.svg\" alt=\"Open In Colab\"/></a>"
      ]
    },
    {
      "cell_type": "code",
      "execution_count": null,
      "metadata": {
        "id": "6WAeOM_X2E4t"
      },
      "outputs": [],
      "source": [
        "!mkdir /content/cifar"
      ]
    },
    {
      "cell_type": "code",
      "source": [
        "!unzip /content/drive/MyDrive/deeplearning/cifar-10.zip -d /content/cifar"
      ],
      "metadata": {
        "colab": {
          "base_uri": "https://localhost:8080/"
        },
        "id": "8YUQzlLJ6JIp",
        "outputId": "9371efa2-8947-4bd8-c706-fcb0923ef313"
      },
      "execution_count": null,
      "outputs": [
        {
          "output_type": "stream",
          "name": "stdout",
          "text": [
            "Archive:  /content/drive/MyDrive/deeplearning/cifar-10.zip\n",
            "  inflating: /content/cifar/sampleSubmission.csv  \n",
            "  inflating: /content/cifar/test.7z  \n",
            "  inflating: /content/cifar/train.7z  \n",
            "  inflating: /content/cifar/trainLabels.csv  \n"
          ]
        }
      ]
    },
    {
      "cell_type": "code",
      "source": [
        "import tensorflow as tf\n",
        "import matplotlib.pyplot as plt\n",
        "import numpy as np\n",
        "import pandas as pd\n",
        "from tensorflow.keras import datasets,models,layers"
      ],
      "metadata": {
        "id": "rp6Mk7mB7D7s"
      },
      "execution_count": null,
      "outputs": []
    },
    {
      "cell_type": "code",
      "source": [
        "data = tf.keras.datasets.cifar10"
      ],
      "metadata": {
        "id": "QFBDt0rd-_cN"
      },
      "execution_count": null,
      "outputs": []
    },
    {
      "cell_type": "code",
      "source": [
        "(train_images, train_labels), (test_images, test_labels) = data.load_data()"
      ],
      "metadata": {
        "colab": {
          "base_uri": "https://localhost:8080/"
        },
        "id": "_sMFoC8H_xTK",
        "outputId": "b22fda19-3de3-4caf-a4fd-50c9d9c5fdbf"
      },
      "execution_count": null,
      "outputs": [
        {
          "output_type": "stream",
          "name": "stdout",
          "text": [
            "Downloading data from https://www.cs.toronto.edu/~kriz/cifar-10-python.tar.gz\n",
            "170498071/170498071 [==============================] - 2s 0us/step\n"
          ]
        }
      ]
    },
    {
      "cell_type": "code",
      "source": [
        "train_images.shape"
      ],
      "metadata": {
        "colab": {
          "base_uri": "https://localhost:8080/"
        },
        "id": "BjXOGmxVAnzj",
        "outputId": "62566ca6-7aca-4927-cf30-9875517b91c9"
      },
      "execution_count": null,
      "outputs": [
        {
          "output_type": "execute_result",
          "data": {
            "text/plain": [
              "(50000, 32, 32, 3)"
            ]
          },
          "metadata": {},
          "execution_count": 6
        }
      ]
    },
    {
      "cell_type": "code",
      "source": [
        "test_images.shape"
      ],
      "metadata": {
        "colab": {
          "base_uri": "https://localhost:8080/"
        },
        "id": "bR9olQCdA_LX",
        "outputId": "9e0f87c6-aa4e-48cc-c018-9d812564fa23"
      },
      "execution_count": null,
      "outputs": [
        {
          "output_type": "execute_result",
          "data": {
            "text/plain": [
              "(10000, 32, 32, 3)"
            ]
          },
          "metadata": {},
          "execution_count": 8
        }
      ]
    },
    {
      "cell_type": "code",
      "source": [
        "print(train_labels[0])"
      ],
      "metadata": {
        "colab": {
          "base_uri": "https://localhost:8080/"
        },
        "id": "9nNYCHCEBXTR",
        "outputId": "b22ad2da-4459-4b06-a89c-adc79569ffe7"
      },
      "execution_count": null,
      "outputs": [
        {
          "output_type": "stream",
          "name": "stdout",
          "text": [
            "[6]\n"
          ]
        }
      ]
    },
    {
      "cell_type": "code",
      "source": [
        "print(train_images[1])"
      ],
      "metadata": {
        "colab": {
          "base_uri": "https://localhost:8080/"
        },
        "id": "V1t33yn8Boi1",
        "outputId": "70fae13d-16d6-4cf9-ad6b-110201a87287"
      },
      "execution_count": null,
      "outputs": [
        {
          "output_type": "stream",
          "name": "stdout",
          "text": [
            "[[[154 177 187]\n",
            "  [126 137 136]\n",
            "  [105 104  95]\n",
            "  ...\n",
            "  [ 91  95  71]\n",
            "  [ 87  90  71]\n",
            "  [ 79  81  70]]\n",
            "\n",
            " [[140 160 169]\n",
            "  [145 153 154]\n",
            "  [125 125 118]\n",
            "  ...\n",
            "  [ 96  99  78]\n",
            "  [ 77  80  62]\n",
            "  [ 71  73  61]]\n",
            "\n",
            " [[140 155 164]\n",
            "  [139 146 149]\n",
            "  [115 115 112]\n",
            "  ...\n",
            "  [ 79  82  64]\n",
            "  [ 68  70  55]\n",
            "  [ 67  69  55]]\n",
            "\n",
            " ...\n",
            "\n",
            " [[175 167 166]\n",
            "  [156 154 160]\n",
            "  [154 160 170]\n",
            "  ...\n",
            "  [ 42  34  36]\n",
            "  [ 61  53  57]\n",
            "  [ 93  83  91]]\n",
            "\n",
            " [[165 154 128]\n",
            "  [156 152 130]\n",
            "  [159 161 142]\n",
            "  ...\n",
            "  [103  93  96]\n",
            "  [123 114 120]\n",
            "  [131 121 131]]\n",
            "\n",
            " [[163 148 120]\n",
            "  [158 148 122]\n",
            "  [163 156 133]\n",
            "  ...\n",
            "  [143 133 139]\n",
            "  [143 134 142]\n",
            "  [143 133 144]]]\n"
          ]
        }
      ]
    },
    {
      "cell_type": "code",
      "source": [
        "for i in range(6):\n",
        "  # define subplot\n",
        "  plt.subplot(330 + 1 + i)\n",
        "  # plot raw pixel data\n",
        "  plt.imshow(train_images[i])\n",
        "  plt.show()"
      ],
      "metadata": {
        "colab": {
          "base_uri": "https://localhost:8080/",
          "height": 953
        },
        "id": "_BKuZJ4lB1Co",
        "outputId": "a0affe75-342c-4bf6-cbf1-c0e81987d27d"
      },
      "execution_count": null,
      "outputs": [
        {
          "output_type": "display_data",
          "data": {
            "text/plain": [
              "<Figure size 640x480 with 1 Axes>"
            ],
            "image/png": "[encoded data removed]"
          },
          "metadata": {}
        },
        {
          "output_type": "display_data",
          "data": {
            "text/plain": [
              "<Figure size 640x480 with 1 Axes>"
            ],
            "image/png": "[encoded data removed]"
          },
          "metadata": {}
        },
        {
          "output_type": "display_data",
          "data": {
            "text/plain": [
              "<Figure size 640x480 with 1 Axes>"
            ],
            "image/png": "[encoded data removed]"
          },
          "metadata": {}
        },
        {
          "output_type": "display_data",
          "data": {
            "text/plain": [
              "<Figure size 640x480 with 1 Axes>"
            ],
            "image/png": "[encoded data removed]"
          },
          "metadata": {}
        },
        {
          "output_type": "display_data",
          "data": {
            "text/plain": [
              "<Figure size 640x480 with 1 Axes>"
            ],
            "image/png": "[encoded data removed]"
          },
          "metadata": {}
        },
        {
          "output_type": "display_data",
          "data": {
            "text/plain": [
              "<Figure size 640x480 with 1 Axes>"
            ],
            "image/png": "[encoded data removed]"
          },
          "metadata": {}
        }
      ]
    },
    {
      "cell_type": "code",
      "source": [
        "#Normalize\n",
        "train_images, test_images = train_images / 255.0, test_images / 255.0"
      ],
      "metadata": {
        "id": "R2P6SWhFCmXa"
      },
      "execution_count": null,
      "outputs": []
    },
    {
      "cell_type": "code",
      "source": [
        "model = tf.keras.models.Sequential([\n",
        "                        tf.keras.layers.Conv2D(32, (3, 3), activation='relu', input_shape=(32, 32, 3)),\n",
        "                        tf.keras.layers.MaxPooling2D(2, 2),\n",
        "                        tf.keras.layers.Conv2D(64, (3, 3), activation='relu'),\n",
        "                        tf.keras.layers.MaxPooling2D(2, 2),\n",
        "                        tf.keras.layers.Conv2D(64, (3, 3), activation='relu'),\n",
        "                        tf.keras.layers.Flatten(),\n",
        "                        tf.keras.layers.Dense(128, activation='relu'),\n",
        "                        tf.keras.layers.Dense(10, activation='softmax')])"
      ],
      "metadata": {
        "id": "mGzWCtfLC94K"
      },
      "execution_count": null,
      "outputs": []
    },
    {
      "cell_type": "code",
      "source": [
        "model.summary()"
      ],
      "metadata": {
        "colab": {
          "base_uri": "https://localhost:8080/"
        },
        "id": "-MTAcb5cK0Fx",
        "outputId": "e35f428a-6592-4601-f4aa-8100ccb3b7d8"
      },
      "execution_count": null,
      "outputs": [
        {
          "output_type": "stream",
          "name": "stdout",
          "text": [
            "Model: \"sequential\"\n",
            "_________________________________________________________________\n",
            " Layer (type)                Output Shape              Param #   \n",
            "=================================================================\n",
            " conv2d (Conv2D)             (None, 30, 30, 32)        896       \n",
            "                                                                 \n",
            " max_pooling2d (MaxPooling2D  (None, 15, 15, 32)       0         \n",
            " )                                                               \n",
            "                                                                 \n",
            " conv2d_1 (Conv2D)           (None, 13, 13, 64)        18496     \n",
            "                                                                 \n",
            " max_pooling2d_1 (MaxPooling  (None, 6, 6, 64)         0         \n",
            " 2D)                                                             \n",
            "                                                                 \n",
            " conv2d_2 (Conv2D)           (None, 4, 4, 64)          36928     \n",
            "                                                                 \n",
            " flatten (Flatten)           (None, 1024)              0         \n",
            "                                                                 \n",
            " dense (Dense)               (None, 128)               131200    \n",
            "                                                                 \n",
            " dense_1 (Dense)             (None, 10)                1290      \n",
            "                                                                 \n",
            "=================================================================\n",
            "Total params: 188,810\n",
            "Trainable params: 188,810\n",
            "Non-trainable params: 0\n",
            "_________________________________________________________________\n"
          ]
        }
      ]
    },
    {
      "cell_type": "code",
      "source": [
        "model.compile(optimizer='adam', loss='sparse_categorical_crossentropy', metrics=['accuracy'])\n",
        "\n",
        "history = model.fit(train_images, train_labels, epochs=20, \n",
        "                    validation_data=(test_images, test_labels))"
      ],
      "metadata": {
        "colab": {
          "base_uri": "https://localhost:8080/"
        },
        "id": "btzpInzZK8p9",
        "outputId": "35cfc7b5-a08d-41bb-b184-1664e2e3f9df"
      },
      "execution_count": null,
      "outputs": [
        {
          "output_type": "stream",
          "name": "stdout",
          "text": [
            "Epoch 1/20\n",
            "1563/1563 [==============================] - 89s 56ms/step - loss: 1.5016 - accuracy: 0.4538 - val_loss: 1.2017 - val_accuracy: 0.5736\n",
            "Epoch 2/20\n",
            "1563/1563 [==============================] - 91s 58ms/step - loss: 1.1295 - accuracy: 0.5982 - val_loss: 1.0730 - val_accuracy: 0.6212\n",
            "Epoch 3/20\n",
            "1563/1563 [==============================] - 94s 60ms/step - loss: 0.9691 - accuracy: 0.6574 - val_loss: 0.9825 - val_accuracy: 0.6498\n",
            "Epoch 4/20\n",
            "1563/1563 [==============================] - 84s 54ms/step - loss: 0.8619 - accuracy: 0.6967 - val_loss: 0.9168 - val_accuracy: 0.6846\n",
            "Epoch 5/20\n",
            "1563/1563 [==============================] - 85s 54ms/step - loss: 0.7814 - accuracy: 0.7257 - val_loss: 0.8763 - val_accuracy: 0.6988\n",
            "Epoch 6/20\n",
            "1563/1563 [==============================] - 90s 58ms/step - loss: 0.7186 - accuracy: 0.7464 - val_loss: 0.8643 - val_accuracy: 0.7046\n",
            "Epoch 7/20\n",
            "1563/1563 [==============================] - 86s 55ms/step - loss: 0.6632 - accuracy: 0.7670 - val_loss: 0.8531 - val_accuracy: 0.7089\n",
            "Epoch 8/20\n",
            "1563/1563 [==============================] - 84s 54ms/step - loss: 0.6110 - accuracy: 0.7854 - val_loss: 0.8588 - val_accuracy: 0.7113\n",
            "Epoch 9/20\n",
            "1563/1563 [==============================] - 86s 55ms/step - loss: 0.5669 - accuracy: 0.7991 - val_loss: 0.8950 - val_accuracy: 0.7115\n",
            "Epoch 10/20\n",
            "1563/1563 [==============================] - 87s 56ms/step - loss: 0.5167 - accuracy: 0.8197 - val_loss: 0.9092 - val_accuracy: 0.7169\n",
            "Epoch 11/20\n",
            "1563/1563 [==============================] - 85s 54ms/step - loss: 0.4742 - accuracy: 0.8321 - val_loss: 0.9058 - val_accuracy: 0.7155\n",
            "Epoch 12/20\n",
            "1563/1563 [==============================] - 82s 53ms/step - loss: 0.4331 - accuracy: 0.8462 - val_loss: 0.9485 - val_accuracy: 0.7173\n",
            "Epoch 13/20\n",
            "1563/1563 [==============================] - 85s 54ms/step - loss: 0.3930 - accuracy: 0.8608 - val_loss: 1.0102 - val_accuracy: 0.7096\n",
            "Epoch 14/20\n",
            "1563/1563 [==============================] - 89s 57ms/step - loss: 0.3559 - accuracy: 0.8738 - val_loss: 1.0818 - val_accuracy: 0.7061\n",
            "Epoch 15/20\n",
            "1563/1563 [==============================] - 88s 57ms/step - loss: 0.3224 - accuracy: 0.8863 - val_loss: 1.1363 - val_accuracy: 0.7078\n",
            "Epoch 16/20\n",
            "1563/1563 [==============================] - 84s 54ms/step - loss: 0.2899 - accuracy: 0.8962 - val_loss: 1.1920 - val_accuracy: 0.7094\n",
            "Epoch 17/20\n",
            "1563/1563 [==============================] - 84s 54ms/step - loss: 0.2691 - accuracy: 0.9040 - val_loss: 1.2325 - val_accuracy: 0.7015\n",
            "Epoch 18/20\n",
            "1563/1563 [==============================] - 86s 55ms/step - loss: 0.2421 - accuracy: 0.9129 - val_loss: 1.4504 - val_accuracy: 0.6807\n",
            "Epoch 19/20\n",
            "1563/1563 [==============================] - 89s 57ms/step - loss: 0.2229 - accuracy: 0.9194 - val_loss: 1.4143 - val_accuracy: 0.6956\n",
            "Epoch 20/20\n",
            "1563/1563 [==============================] - 90s 57ms/step - loss: 0.2032 - accuracy: 0.9269 - val_loss: 1.5237 - val_accuracy: 0.7008\n"
          ]
        }
      ]
    },
    {
      "cell_type": "code",
      "source": [
        "plt.plot(history.history['accuracy'],  label='accuracy')\n",
        "plt.plot(history.history['val_accuracy'], label = 'val_accuracy')\n",
        "plt.xlabel('Epoch')\n",
        "plt.ylabel('Accuracy')\n",
        "plt.ylim([0.5, 1])\n",
        "plt.legend(loc='lower right')"
      ],
      "metadata": {
        "colab": {
          "base_uri": "https://localhost:8080/",
          "height": 472
        },
        "id": "v5W93Ol6LlC-",
        "outputId": "1f41e5c9-7283-4f13-93c9-86d2f4c4d433"
      },
      "execution_count": null,
      "outputs": [
        {
          "output_type": "execute_result",
          "data": {
            "text/plain": [
              "<matplotlib.legend.Legend at 0x7fa3993481f0>"
            ]
          },
          "metadata": {},
          "execution_count": 17
        },
        {
          "output_type": "display_data",
          "data": {
            "text/plain": [
              "<Figure size 640x480 with 1 Axes>"
            ],
            "image/png": "[encoded data removed]"
          },
          "metadata": {}
        }
      ]
    }
  ]
}